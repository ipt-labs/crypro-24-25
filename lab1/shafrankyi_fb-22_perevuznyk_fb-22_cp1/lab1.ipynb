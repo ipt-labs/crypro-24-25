{
 "cells": [
  {
   "cell_type": "markdown",
   "metadata": {},
   "source": [
    "### Фільтруємо файл"
   ]
  },
  {
   "cell_type": "code",
   "execution_count": 1,
   "metadata": {},
   "outputs": [
    {
     "name": "stdout",
     "output_type": "stream",
     "text": [
      "Фільтрація завершена. Результат збережено у 'koran_filtered.txt'.\n"
     ]
    }
   ],
   "source": [
    "import re\n",
    "\n",
    "def filtruvaty_kyrilychni_litery(tekst):\n",
    "    vidfiltrovanyj = re.sub(r'[^а-яА-Я\\s]', '', tekst).lower()\n",
    "    \n",
    "    vidfiltrovanyj = re.sub(r'\\s+', ' ', vidfiltrovanyj).strip()\n",
    "    \n",
    "    return vidfiltrovanyj\n",
    "\n",
    "with open('koran.txt', 'r', encoding='utf-8') as file:\n",
    "    tekst = file.read()\n",
    "\n",
    "vidfiltrovanyj_tekst = filtruvaty_kyrilychni_litery(tekst)\n",
    "\n",
    "with open('koran_filtered.txt', 'w', encoding='utf-8') as file:\n",
    "    file.write(vidfiltrovanyj_tekst)\n",
    "\n",
    "print(\"Фільтрація завершена. Результат збережено у 'koran_filtered.txt'.\")\n",
    "\n",
    "\n"
   ]
  },
  {
   "cell_type": "code",
   "execution_count": 2,
   "metadata": {},
   "outputs": [
    {
     "name": "stdout",
     "output_type": "stream",
     "text": [
      "Видалення пробілів завершено. Результат збережено у 'koran_filtered_no_spaces.txt'.\n"
     ]
    }
   ],
   "source": [
    "def vydalyty_probily(tekst):\n",
    "    return tekst.replace(' ', '')\n",
    "\n",
    "with open('koran_filtered.txt', 'r', encoding='utf-8') as file:\n",
    "    tekst = file.read()\n",
    "\n",
    "tekst_bez_probiliv = vydalyty_probily(tekst)\n",
    "\n",
    "with open('koran_filtered_no_spaces.txt', 'w', encoding='utf-8') as file:\n",
    "    file.write(tekst_bez_probiliv)\n",
    "\n",
    "print(\"Видалення пробілів завершено. Результат збережено у 'koran_filtered_no_spaces.txt'.\")\n"
   ]
  },
  {
   "cell_type": "markdown",
   "metadata": {},
   "source": [
    "### Написати програму для підрахунку частот букв і частот біграм в тексті, а також підрахунку H1 та H2 за безпосереднім означенням."
   ]
  },
  {
   "cell_type": "code",
   "execution_count": 26,
   "metadata": {},
   "outputs": [
    {
     "name": "stdout",
     "output_type": "stream",
     "text": [
      "Частоти символів успішно збережені в 'chastoty_symvoliv.xlsx'.\n",
      "Ентропія H1: 4.309682\n"
     ]
    }
   ],
   "source": [
    "import math\n",
    "from collections import Counter\n",
    "import pandas as pd\n",
    "\n",
    "def obchyslyty_chastoty_bukv(tekst):\n",
    "    zahalna_kyilkist_symvoliv = len(tekst)\n",
    "    kilkist_symvoliv = Counter(tekst)\n",
    "    \n",
    "    chastoty = {symvol: kilkist / zahalna_kyilkist_symvoliv for symvol, kilkist in kilkist_symvoliv.items()}\n",
    "    \n",
    "    return chastoty, kilkist_symvoliv, zahalna_kyilkist_symvoliv\n",
    "\n",
    "def obchyslyty_entropyu(chastoty):\n",
    "    entropyya = -sum(chastota * math.log2(chastota) for chastota in chastoty.values() if chastota > 0)\n",
    "    return entropyya\n",
    "\n",
    "with open('koran_filtered.txt', 'r', encoding='utf-8') as file:\n",
    "    tekst = file.read().replace(' ', '_')\n",
    "\n",
    "chastoty_symvoliv, kilkist_symvoliv, zahalna_kyilkist_symvoliv = obchyslyty_chastoty_bukv(tekst)\n",
    "\n",
    "entropyya = obchyslyty_entropyu(chastoty_symvoliv)\n",
    "\n",
    "df = pd.DataFrame(list(chastoty_symvoliv.items()), columns=['Symvol', 'Chastota']).sort_values(by='Chastota', ascending=False)\n",
    "\n",
    "df.to_excel('chastoty_symvoliv.xlsx', index=False)\n",
    "\n",
    "print(f\"Частоти символів успішно збережені в 'chastoty_symvoliv.xlsx'.\")\n",
    "print(f\"Ентропія H1: {entropyya:.6f}\")\n"
   ]
  },
  {
   "cell_type": "code",
   "execution_count": 7,
   "metadata": {},
   "outputs": [
    {
     "name": "stdout",
     "output_type": "stream",
     "text": [
      "Частоти символів успішно збережені в 'chastoty_symvoliv_bez_probiliv.xlsx'.\n",
      "Ентропія H1: 4.419834\n"
     ]
    }
   ],
   "source": [
    "import math\n",
    "from collections import Counter\n",
    "import pandas as pd\n",
    "\n",
    "def obchyslyty_chastoty_bukv(tekst):\n",
    "    \n",
    "    zahalna_kyilkist_symvoliv = len(tekst)\n",
    "    kilkist_symvoliv = Counter(tekst)\n",
    "\n",
    "    chastoty = {symvol: kilkist / zahalna_kyilkist_symvoliv for symvol, kilkist in kilkist_symvoliv.items()}\n",
    "    \n",
    "    return chastoty, kilkist_symvoliv, zahalna_kyilkist_symvoliv\n",
    "\n",
    "def obchyslyty_entropiyu(chastoty):\n",
    "    entropiya = -sum(chastota * math.log2(chastota) for chastota in chastoty.values() if chastota > 0)\n",
    "    return entropiya\n",
    "\n",
    "with open('koran_filtered_no_spaces.txt', 'r', encoding='utf-8') as file:\n",
    "    tekst = file.read()\n",
    "\n",
    "chastoty_symvoliv, kilkist_symvoliv, zahalna_kyilkist_symvoliv = obchyslyty_chastoty_bukv(tekst)\n",
    "\n",
    "entropiya = obchyslyty_entropiyu(chastoty_symvoliv)\n",
    "\n",
    "df = pd.DataFrame(list(chastoty_symvoliv.items()), columns=['Symvol', 'Chastota']).sort_values(by='Chastota', ascending=False)\n",
    "\n",
    "df.to_excel('chastoty_symvoliv_bez_probiliv.xlsx', index=False)\n",
    "\n",
    "print(f\"Частоти символів успішно збережені в 'chastoty_symvoliv_bez_probiliv.xlsx'.\")\n",
    "print(f\"Ентропія H1: {entropiya:.6f}\")\n"
   ]
  },
  {
   "cell_type": "code",
   "execution_count": 5,
   "metadata": {},
   "outputs": [
    {
     "name": "stdout",
     "output_type": "stream",
     "text": [
      "Частоти біграм успішно збережені у вигляді квадратної матриці в 'chastoty_bigram.xlsx'.\n",
      "Ентропія H2: 3.846203\n"
     ]
    }
   ],
   "source": [
    "import math\n",
    "from collections import Counter\n",
    "import pandas as pd\n",
    "import numpy as np\n",
    "\n",
    "def obchyslyty_chastoty_bigram(tekst):\n",
    "    bigramy = [tekst[i:i+2].replace(' ', '_') for i in range(len(tekst) - 1)]\n",
    "\n",
    "    zahalna_kilkist_bigram = len(bigramy)\n",
    "    kilkist_bigram = Counter(bigramy)\n",
    "\n",
    "    chastoty = {bigram: kilkist / zahalna_kilkist_bigram for bigram, kilkist in kilkist_bigram.items()}\n",
    "    \n",
    "    return chastoty, kilkist_bigram, zahalna_kilkist_bigram\n",
    "\n",
    "def obchyslyty_entropiyu(chastoty):\n",
    "    entropiya = (-sum(chastota * math.log2(chastota) for chastota in chastoty.values() if chastota > 0))/2\n",
    "    return entropiya\n",
    "\n",
    "with open('koran_filtered.txt', 'r', encoding='utf-8') as file:\n",
    "    tekst = file.read()\n",
    "\n",
    "unikalni_symvoly = sorted(set(tekst.replace(' ', '_')))\n",
    "\n",
    "chastoty_bigram, kilkist_bigram, zahalna_kilkist_bigram = obchyslyty_chastoty_bigram(tekst)\n",
    "\n",
    "matrytsya_bigram = pd.DataFrame(0.0, index=unikalni_symvoly, columns=unikalni_symvoly)\n",
    "\n",
    "for bigram, chastota in chastoty_bigram.items():\n",
    "    pershyi_symvol = bigram[0]\n",
    "    druhyi_symvol = bigram[1]\n",
    "    matrytsya_bigram.at[pershyi_symvol, druhyi_symvol] = chastota\n",
    "\n",
    "entropiya_H2 = obchyslyty_entropiyu(chastoty_bigram)\n",
    "\n",
    "matrytsya_bigram.to_excel('chastoty_bigram.xlsx')\n",
    "\n",
    "print(f\"Частоти біграм успішно збережені у вигляді квадратної матриці в 'chastoty_bigram.xlsx'.\")\n",
    "print(f\"Ентропія H2: {entropiya_H2:.6f}\")\n"
   ]
  },
  {
   "cell_type": "code",
   "execution_count": 27,
   "metadata": {},
   "outputs": [
    {
     "name": "stdout",
     "output_type": "stream",
     "text": [
      "Матриця частот біграм успішно збережена в 'chastoty_bigram_bez_probiliv.xlsx'.\n",
      "Ентропія H2: 4.061054\n"
     ]
    }
   ],
   "source": [
    "import math\n",
    "from collections import Counter\n",
    "import pandas as pd\n",
    "\n",
    "def obchyslyty_chastoty_bigram(tekst):\n",
    "    bigramy = [tekst[i:i+2] for i in range(len(tekst) - 1)]\n",
    "\n",
    "    zahalna_kilkist_bigram = len(bigramy)\n",
    "    kilkist_bigram = Counter(bigramy)\n",
    "\n",
    "    chastoty = {bigram: kilkist / zahalna_kilkist_bigram for bigram, kilkist in kilkist_bigram.items()}\n",
    "    \n",
    "    return chastoty, kilkist_bigram, zahalna_kilkist_bigram\n",
    "\n",
    "def obchyslyty_entropiyu(chastoty):\n",
    "    entropiya = (-sum(chastota * math.log2(chastota) for chastota in chastoty.values() if chastota > 0))/2\n",
    "    return entropiya\n",
    "\n",
    "with open('koran_filtered_no_spaces.txt', 'r', encoding='utf-8') as file:\n",
    "    tekst = file.read()\n",
    "\n",
    "unikalni_symvoly = sorted(set(tekst.replace(' ', '_')))\n",
    "\n",
    "chastoty_bigram, kilkist_bigram, zahalna_kilkist_bigram = obchyslyty_chastoty_bigram(tekst)\n",
    "\n",
    "matrytsya_bigram = pd.DataFrame(0.0, index=unikalni_symvoly, columns=unikalni_symvoly)\n",
    "\n",
    "for bigram, chastota in chastoty_bigram.items():\n",
    "    pershyi_symvol = bigram[0]\n",
    "    druhyi_symvol = bigram[1]\n",
    "    matrytsya_bigram.at[pershyi_symvol, druhyi_symvol] = chastota\n",
    "\n",
    "matrytsya_bigram.to_excel('chastoty_bigram_bez_probiliv.xlsx')\n",
    "\n",
    "entropiya_H2 = obchyslyty_entropiyu(chastoty_bigram)\n",
    "\n",
    "print(f\"Матриця частот біграм успішно збережена в 'chastoty_bigram_bez_probiliv.xlsx'.\")\n",
    "print(f\"Ентропія H2: {entropiya_H2:.6f}\")\n"
   ]
  },
  {
   "cell_type": "code",
   "execution_count": 35,
   "metadata": {},
   "outputs": [
    {
     "name": "stdout",
     "output_type": "stream",
     "text": [
      "Матриця частот біграм без перетинів успішно збережена в 'chastoty_bigram_bez_peretyniv.xlsx'.\n",
      "Ентропія H2: 3.845883\n"
     ]
    }
   ],
   "source": [
    "import math\n",
    "from collections import Counter\n",
    "import pandas as pd\n",
    "\n",
    "def obchyslyty_chastoty_bigram(tekst):\n",
    "    bigramy = [tekst[i:i+2].replace(' ', '_') for i in range(0, len(tekst) - 1, 2)]\n",
    "    \n",
    "    zahalna_kilkist_bigram = len(bigramy)\n",
    "    kilkist_bigram = Counter(bigramy)\n",
    "\n",
    "    chastoty = {bigram: kilkist / zahalna_kilkist_bigram for bigram, kilkist in kilkist_bigram.items()}\n",
    "    \n",
    "    return chastoty, kilkist_bigram, zahalna_kilkist_bigram\n",
    "\n",
    "def obchyslyty_entropiyu(chastoty):\n",
    "    entropiya = (-sum(chastota * math.log2(chastota) for chastota in chastoty.values() if chastota > 0))/2\n",
    "    return entropiya\n",
    "\n",
    "with open('koran_filtered.txt', 'r', encoding='utf-8') as file:\n",
    "    tekst = file.read()\n",
    "\n",
    "unikalni_symvoly = sorted(set(tekst.replace(' ', '_')))\n",
    "\n",
    "chastoty_bigram, kilkist_bigram, zahalna_kilkist_bigram = obchyslyty_chastoty_bigram(tekst)\n",
    "\n",
    "matrytsya_bigram = pd.DataFrame(0.0, index=unikalni_symvoly, columns=unikalni_symvoly)\n",
    "\n",
    "for bigram, chastota in chastoty_bigram.items():\n",
    "    if len(bigram) == 2:\n",
    "        pershyy_symvol = bigram[0]\n",
    "        druhyy_symvol = bigram[1]\n",
    "        matrytsya_bigram.at[pershyy_symvol, druhyy_symvol] = chastota\n",
    "\n",
    "matrytsya_bigram.to_excel('chastoty_bigram_bez_peretyniv.xlsx')\n",
    "\n",
    "entropiya_H2 = obchyslyty_entropiyu(chastoty_bigram)\n",
    "\n",
    "print(f\"Матриця частот біграм без перетинів успішно збережена в 'chastoty_bigram_bez_peretyniv.xlsx'.\")\n",
    "print(f\"Ентропія H2: {entropiya_H2:.6f}\")\n"
   ]
  },
  {
   "cell_type": "code",
   "execution_count": 12,
   "metadata": {},
   "outputs": [
    {
     "name": "stdout",
     "output_type": "stream",
     "text": [
      "Матриця частот біграм без перетинів успішно збережена в 'chastoty_bigram_bez_peretyniv_i_bez_probiliv.xlsx'.\n",
      "Ентропія H2: 4.059723\n"
     ]
    }
   ],
   "source": [
    "import math\n",
    "from collections import Counter\n",
    "import pandas as pd\n",
    "\n",
    "def obchyslyty_chastoty_bigram(tekst):\n",
    "    bigramy = [tekst[i:i+2].replace(' ', '_') for i in range(0, len(tekst) - 1, 2)]\n",
    "    \n",
    "    zahalna_kilkist_bigram = len(bigramy)\n",
    "    kilkist_bigram = Counter(bigramy)\n",
    "\n",
    "    chastoty = {bigram: kilkist / zahalna_kilkist_bigram for bigram, kilkist in kilkist_bigram.items()}\n",
    "    \n",
    "    return chastoty, kilkist_bigram, zahalna_kilkist_bigram\n",
    "\n",
    "def obchyslyty_entropiyu(chastoty):\n",
    "    entropiya = (-sum(chastota * math.log2(chastota) for chastota in chastoty.values() if chastota > 0))/2\n",
    "    return entropiya\n",
    "\n",
    "with open('koran_filtered_no_spaces.txt', 'r', encoding='utf-8') as file:\n",
    "    tekst = file.read()\n",
    "\n",
    "unikalni_symvoly = sorted(set(tekst.replace(' ', '_')))\n",
    "\n",
    "chastoty_bigram, kilkist_bigram, zahalna_kilkist_bigram = obchyslyty_chastoty_bigram(tekst)\n",
    "\n",
    "matrytsya_bigram = pd.DataFrame(0.0, index=unikalni_symvoly, columns=unikalni_symvoly)\n",
    "\n",
    "for bigram, chastota in chastoty_bigram.items():\n",
    "    if len(bigram) == 2:\n",
    "        pershyy_symvol = bigram[0]\n",
    "        druhyy_symvol = bigram[1]\n",
    "        matrytsya_bigram.at[pershyy_symvol, druhyy_symvol] = chastota\n",
    "\n",
    "matrytsya_bigram.to_excel('chastoty_bigram_bez_peretyniv_i_bez_probiliv.xlsx')\n",
    "\n",
    "entropiya_H2 = obchyslyty_entropiyu(chastoty_bigram)\n",
    "\n",
    "print(f\"Матриця частот біграм без перетинів успішно збережена в 'chastoty_bigram_bez_peretyniv_i_bez_probiliv.xlsx'.\")\n",
    "print(f\"Ентропія H2: {entropiya_H2:.6f}\")\n"
   ]
  },
  {
   "cell_type": "code",
   "execution_count": 34,
   "metadata": {},
   "outputs": [
    {
     "name": "stdout",
     "output_type": "stream",
     "text": [
      "Ентропія H1_probily: 4.309682, Надмірність R: 0.145649\n",
      "Ентропія H1_bez_probiliv: 4.419834, Надмірність R: 0.116033\n",
      "Ентропія H2_bez_probiliv_1: 4.061054, Надмірність R: 0.187789\n",
      "Ентропія H2_bez_probiliv_2: 4.059723, Надмірність R: 0.188055\n",
      "Ентропія H2_probily_1: 3.846203, Надмірність R: 0.237529\n",
      "Ентропія H2_probily_2: 3.845883, Надмірність R: 0.237593\n"
     ]
    }
   ],
   "source": [
    "import math\n",
    "\n",
    "with open('koran_filtered.txt', 'r', encoding='utf-8') as file:\n",
    "    tekst = file.read()\n",
    "\n",
    "unikalni_symvoly = set(tekst)\n",
    "\n",
    "with open('koran_filtered_no_spaces.txt', 'r', encoding='utf-8') as file:\n",
    "    tekst_1 = file.read()\n",
    "\n",
    "unikalni_symvoly_1 = set(tekst_1)\n",
    "\n",
    "kilkist_unikalnykh_symvoliv = len(unikalni_symvoly)\n",
    "\n",
    "kilkist_unikalnykh_symvoliv_1 = len(unikalni_symvoly_1)\n",
    "\n",
    "H_1_probily = 4.309682\n",
    "H_1_bez_probiliv = 4.419834\n",
    "H_2_probily = [3.846203, 3.845883]\n",
    "H_2_bez_probiliv = [4.061054, 4.059723]\n",
    "H_maksymum = math.log2(kilkist_unikalnykh_symvoliv)\n",
    "H_maksymum_1 = math.log2(kilkist_unikalnykh_symvoliv_1)\n",
    "\n",
    "R_H1_probily = 1 - (H_1_probily / H_maksymum)\n",
    "print(f\"Ентропія H1_probily: {H_1_probily:.6f}, Надмірність R: {R_H1_probily:.6f}\")\n",
    "\n",
    "\n",
    "R_H1_bez_probiliv = 1 - (H_1_bez_probiliv / H_maksymum_1)\n",
    "print(f\"Ентропія H1_bez_probiliv: {H_1_bez_probiliv:.6f}, Надмірність R: {R_H1_bez_probiliv:.6f}\")\n",
    "\n",
    "for i, H in enumerate(H_2_bez_probiliv, 1):\n",
    "    R = 1 - (H / H_maksymum_1)\n",
    "    print(f\"Ентропія H2_bez_probiliv_{i}: {H:.6f}, Надмірність R: {R:.6f}\")\n",
    "\n",
    "for i, H in enumerate(H_2_probily, 1):\n",
    "    R = 1 - (H / H_maksymum)\n",
    "    print(f\"Ентропія H2_probily_{i}: {H:.6f}, Надмірність R: {R:.6f}\")"
   ]
  }
 ],
 "metadata": {
  "kernelspec": {
   "display_name": "Python 3",
   "language": "python",
   "name": "python3"
  },
  "language_info": {
   "codemirror_mode": {
    "name": "ipython",
    "version": 3
   },
   "file_extension": ".py",
   "mimetype": "text/x-python",
   "name": "python",
   "nbconvert_exporter": "python",
   "pygments_lexer": "ipython3",
   "version": "3.12.3"
  }
 },
 "nbformat": 4,
 "nbformat_minor": 2
}
