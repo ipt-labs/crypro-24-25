{
 "cells": [
  {
   "metadata": {},
   "cell_type": "markdown",
   "source": "Лабораторна робота 4"
  },
  {
   "metadata": {},
   "cell_type": "markdown",
   "source": [
    "1. Написати функцію пошуку випадкового простого числа з заданого інтервалу або\n",
    "заданої довжини, використовуючи датчик випадкових чисел та тести перевірки на\n",
    "простоту. В якості датчика випадкових чисел використовуйте вбудований генератор\n",
    "псевдовипадкових чисел вашої мови програмування. В якості тесту перевірки на простоту\n",
    "рекомендовано використовувати тест Міллера-Рабіна із попередніми пробними\n",
    "діленнями. Тести необхідно реалізовувати власноруч, використання готових реалізацій\n",
    "тестів не дозволяється.\n"
   ]
  },
  {
   "metadata": {
    "ExecuteTime": {
     "end_time": "2024-12-12T11:48:50.325015Z",
     "start_time": "2024-12-12T11:48:50.318705Z"
    }
   },
   "cell_type": "code",
   "source": [
    "import csv\n",
    "import random\n",
    "from math import gcd\n",
    "\n",
    "def miller_rabin(p, k=5):\n",
    "    s, d = 0, p - 1\n",
    "    while d % 2 == 0:\n",
    "        s += 1\n",
    "        d //= 2\n",
    "\n",
    "    for _ in range(k):\n",
    "        x = random.randint(2, p - 2)\n",
    "\n",
    "        if gcd(x, p) > 1:\n",
    "            return False\n",
    "\n",
    "        x_d = pow(x, d, p)\n",
    "        if x_d == 1 or x_d == p - 1:\n",
    "            continue\n",
    "\n",
    "        is_composite = True\n",
    "        for r in range(1, s):\n",
    "            x_d = pow(x_d, 2, p)\n",
    "            if x_d == p - 1:\n",
    "                is_composite = False\n",
    "                break\n",
    "            if x_d == 1:\n",
    "                return False\n",
    "\n",
    "        if is_composite:\n",
    "            return False\n",
    "\n",
    "    return True\n",
    "\n",
    "def random_prime_in_range(start, end):\n",
    "    with open(\"numbers.csv\", \"a\", newline=\"\") as csvfile:\n",
    "        while True:\n",
    "            num = random.randint(start, end)\n",
    "            if miller_rabin(num):\n",
    "                return num\n",
    "            else:\n",
    "                    writer = csv.writer(csvfile)\n",
    "                    writer.writerow([num])\n",
    "\n",
    "def random_prime_with_bit_length(bits):\n",
    "    start = 2**(bits - 1)\n",
    "    end = 2**bits - 1\n",
    "    return random_prime_in_range(start, end)"
   ],
   "outputs": [],
   "execution_count": 4
  },
  {
   "metadata": {},
   "cell_type": "markdown",
   "source": "2. За допомогою цієї функції згенерувати дві пари простих чисел  p, q і p1, q1 довжини щонайменше 256 біт. При цьому пари чисел беруться так, щоб pq <= p1q1; p і q – прості числа для побудови ключів абонента А, p1 i q1 – абонента B."
  },
  {
   "metadata": {
    "ExecuteTime": {
     "end_time": "2024-12-12T11:48:53.886370Z",
     "start_time": "2024-12-12T11:48:53.792357Z"
    }
   },
   "cell_type": "code",
   "source": [
    "def generate_prime_pairs(bits):\n",
    "    while True:\n",
    "        p = random_prime_with_bit_length(bits)\n",
    "        q = random_prime_with_bit_length(bits)\n",
    "        p1 = random_prime_with_bit_length(bits)\n",
    "        q1 = random_prime_with_bit_length(bits)\n",
    "\n",
    "        if p * q <= p1 * q1:\n",
    "            return (p, q), (p1, q1)\n",
    "\n",
    "(pre_p, pre_q), (pre_p1, pre_q1) = generate_prime_pairs(256)\n",
    "print(\"Прості числа абонента A: p =\", pre_p, \", q =\", pre_q)\n",
    "print(\"Прості числа абонента B: p1 =\", pre_p1, \", q1 =\", pre_q1)\n",
    "print(\"Перевірка: pq =\", pre_p * pre_q, \"<= p1q1 =\", pre_p1 * pre_q1)\n",
    "print(pre_p * pre_q <= pre_p1 * pre_q1)"
   ],
   "outputs": [
    {
     "name": "stdout",
     "output_type": "stream",
     "text": [
      "Прості числа абонента A: p = 106562740887006293533753879313712322498428562717557560521390860435756979775533 , q = 74149607855001096120706588791234406114565986659988898493905483417164599232693\n",
      "Прості числа абонента B: p1 = 81579070940952138200790178334452740161301024008395603877883759575533479961003 , q1 = 101354543085568016288545960019324464512088897148407187297540301695885370884291\n",
      "Перевірка: pq = 7901585448725608336071709460809208458448196545019628810484790103245785580177188347123688889832300667316164503993417992469324245641387164327932851175100369 <= p1q1 = 8268409460565343223293769722917993719039003950182927796397004447865109657153380614776406200638169961390897417123469868482920589724167170761234754305303873\n",
      "True\n"
     ]
    }
   ],
   "execution_count": 5
  },
  {
   "metadata": {},
   "cell_type": "markdown",
   "source": "3. Написати функцію генерації ключових пар для RSA. Після генерування функція повинна повертати та/або зберігати секретний ключ (d, p,q) та відкритий ключ  (n,e). За допомогою цієї функції побудувати схеми RSA для абонентів А і B – тобто, створити та зберегти для подальшого використання відкриті ключі (e,n) , (e1, n1) та секретні d і d1."
  },
  {
   "metadata": {
    "ExecuteTime": {
     "end_time": "2024-12-12T11:48:55.936133Z",
     "start_time": "2024-12-12T11:48:55.930312Z"
    }
   },
   "cell_type": "code",
   "source": [
    "def mod_inverse(e, phi):\n",
    "    old_r, r = e, phi\n",
    "    old_s, s = 1, 0\n",
    "    while r != 0:\n",
    "        quotient = old_r // r\n",
    "        old_r, r = r, old_r - quotient * r\n",
    "        old_s, s = s, old_s - quotient * s\n",
    "    if old_r != 1:\n",
    "        raise ValueError(\"e не має оберненого за модулем phi\")\n",
    "    return old_s % phi\n",
    "\n",
    "def generate_rsa_key_pair(p, q):\n",
    "    n = p * q\n",
    "    phi = (p - 1) * (q - 1)\n",
    "\n",
    "    while True:\n",
    "        e = random.randint(2, phi - 1)\n",
    "        if gcd(e, phi) == 1:\n",
    "            break\n",
    "\n",
    "    d = mod_inverse(e, phi)\n",
    "    return (e, n), (d, p, q)\n",
    "\n",
    "public_key_A, private_key_A = generate_rsa_key_pair(pre_p, pre_q)\n",
    "public_key_B, private_key_B = generate_rsa_key_pair(pre_p1, pre_q1)\n",
    "\n",
    "print(\"Відкритий ключ абонента A (e, n):\", public_key_A)\n",
    "print(\"Секретний ключ абонента A (d, p, q):\", private_key_A)\n",
    "print()\n",
    "print(\"Відкритий ключ абонента B (e1, n1):\", public_key_B)\n",
    "print(\"Секретний ключ абонента B (d1, p1, q1):\", private_key_B)\n"
   ],
   "outputs": [
    {
     "name": "stdout",
     "output_type": "stream",
     "text": [
      "Відкритий ключ абонента A (e, n): (7008971479267891464756759884490843449348909833347140129738764000468972519196137046267496592444657950663078258177608170453589159147164676232459358144058345, 7901585448725608336071709460809208458448196545019628810484790103245785580177188347123688889832300667316164503993417992469324245641387164327932851175100369)\n",
      "Секретний ключ абонента A (d, p, q): (732299613885779590710919346595996342620437682056554303886396149698212721527995176239763666805067771961241306811221149151480769717926487396050208284780713, 106562740887006293533753879313712322498428562717557560521390860435756979775533, 74149607855001096120706588791234406114565986659988898493905483417164599232693)\n",
      "\n",
      "Відкритий ключ абонента B (e1, n1): (6288205988327314377712485656788415707382944315131050874823239922341247488682785125080551492699025834265679221657182892184074349739349154278279350950354581, 8268409460565343223293769722917993719039003950182927796397004447865109657153380614776406200638169961390897417123469868482920589724167170761234754305303873)\n",
      "Секретний ключ абонента B (d1, p1, q1): (3539363864745555811061869738272023534606628538019891680931571347049153758413694253145299484545143500313648306727337322917842757501952676954331590343363121, 81579070940952138200790178334452740161301024008395603877883759575533479961003, 101354543085568016288545960019324464512088897148407187297540301695885370884291)\n"
     ]
    }
   ],
   "execution_count": 6
  },
  {
   "metadata": {},
   "cell_type": "markdown",
   "source": [
    "4. Написати програму шифрування, розшифрування і створення повідомлення з  цифровим підписом для абонентів А і B. Кожна з операцій (шифрування, розшифрування, створення цифрового підпису, перевірка цифрового підпису) повинна бути реалізована окремою процедурою, на вхід до якої повинні подаватись лише ті ключові дані, які  необхідні для її виконання.\n",
    "За допомогою датчика випадкових чисел вибрати відкрите повідомлення M і\n",
    "знайти криптограму для абонентів А и B, перевірити правильність розшифрування.  Скласти для А і B повідомлення з цифровим підписом і перевірити його."
   ]
  },
  {
   "metadata": {
    "ExecuteTime": {
     "end_time": "2024-12-12T11:48:58.953635Z",
     "start_time": "2024-12-12T11:48:58.948740Z"
    }
   },
   "cell_type": "code",
   "source": [
    "def encrypt(message, public_key):\n",
    "    return pow(message, public_key[0], public_key[1])\n",
    "\n",
    "def decrypt(ciphertext, private_key):\n",
    "    return pow(ciphertext, private_key[0], private_key[1] * private_key[2])\n",
    "\n",
    "def sign(message, private_key):\n",
    "    return pow(message, private_key[0], private_key[1] * private_key[2])\n",
    "\n",
    "def verify(message, signature, public_key):\n",
    "    return message == pow(signature, public_key[0], public_key[1])\n"
   ],
   "outputs": [],
   "execution_count": 7
  },
  {
   "metadata": {},
   "cell_type": "markdown",
   "source": [
    "5. За допомогою раніше написаних на попередніх етапах програм організувати роботу протоколу конфіденційного розсилання ключів з підтвердженням справжності по  відкритому каналу за допомогою алгоритму RSA. Протоколи роботи кожного учасника  (відправника та приймаючого) повинні бути реалізовані у вигляді окремих процедур, на  вхід до яких повинні подаватись лише ті ключові дані, які необхідні для виконання.\n",
    "Перевірити роботу програм для випадково обраного ключа  0 < k < n."
   ]
  },
  {
   "metadata": {
    "ExecuteTime": {
     "end_time": "2024-12-12T12:18:18.448264Z",
     "start_time": "2024-12-12T12:18:18.438848Z"
    }
   },
   "cell_type": "code",
   "source": [
    "def send_key(message, receiver_public_key, sender_private_key):\n",
    "    signed_message = sign(message, sender_private_key)\n",
    "    encrypted_signed_message = encrypt(signed_message, receiver_public_key)\n",
    "    encrypted_message = encrypt(message, receiver_public_key)\n",
    "    return encrypted_message, encrypted_signed_message\n",
    "\n",
    "def receive_key(encrypted_message, encrypted_signed_message, receiver_private_key, sender_public_key):\n",
    "    decrypted_message = decrypt(encrypted_message, receiver_private_key)\n",
    "    signed_message = decrypt(encrypted_signed_message, receiver_private_key)\n",
    "    if verify(decrypted_message, signed_message, sender_public_key):\n",
    "        print(\"Перевірка підпису успішна\")\n",
    "        return decrypted_message\n",
    "    else:\n",
    "        raise ValueError(\"Невдала перевірка підпису\")\n",
    "\n",
    "# k = random.randint(2, public_key_A[1] - 1)\n",
    "# print(\"Випадкове повідомлення k:\", k)\n",
    "\n",
    "\n",
    "# encrypted_message_to_B, encrypted_signed_message_to_B  = send_key(k, public_key_B, private_key_A)\n",
    "# print(\"Зашифроване повідомлення:\", encrypted_message_to_B)\n",
    "# print(\"Зашифроване підписане повідомлення:\", encrypted_signed_message_to_B)\n",
    "#\n",
    "# try:\n",
    "#     received_k = receive_key(encrypted_message_to_B, 3114, private_key_B, public_key_A)\n",
    "#     print(\"Отриманий ключ:\", received_k)\n",
    "# except ValueError as e:\n",
    "#     print(e)\n",
    "# t = 4878134088213678933867295438683034659964434471896246561594220447222018947750912285520166076778902024365462306432249670130336555500458906847917038696135665\n",
    "# t_en = encrypt(t, private_key_A)\n",
    "# print(t_en)\n",
    "server_key = (65537, 82834032811684679062793375026310729342329054894249212258922932252737952799567)\n",
    "en_mes = 2714548169814680569877082935664314441244766143576572366836958014574656739932922663702092664047737868963079368107391793279018503315652043349199377607487564\n",
    "sig_mes = 7658073435847314285157099572702923402668278002001764551742084054351297214048410225738322316690101870514125760097393368326089850167646326798606606374873461\n",
    "receive_key(en_mes, sig_mes, private_key_A, server_key)\n",
    "\n"
   ],
   "outputs": [
    {
     "name": "stdout",
     "output_type": "stream",
     "text": [
      "Перевірка підпису успішна\n"
     ]
    },
    {
     "data": {
      "text/plain": [
       "12727984711805633016"
      ]
     },
     "execution_count": 13,
     "metadata": {},
     "output_type": "execute_result"
    }
   ],
   "execution_count": 13
  },
  {
   "metadata": {},
   "cell_type": "code",
   "outputs": [],
   "execution_count": null,
   "source": ""
  }
 ],
 "metadata": {
  "kernelspec": {
   "display_name": "Python 3",
   "language": "python",
   "name": "python3"
  },
  "language_info": {
   "codemirror_mode": {
    "name": "ipython",
    "version": 3
   },
   "file_extension": ".py",
   "mimetype": "text/x-python",
   "name": "python",
   "nbconvert_exporter": "python",
   "pygments_lexer": "ipython3",
   "version": "3.10.11"
  }
 },
 "nbformat": 4,
 "nbformat_minor": 2
}
