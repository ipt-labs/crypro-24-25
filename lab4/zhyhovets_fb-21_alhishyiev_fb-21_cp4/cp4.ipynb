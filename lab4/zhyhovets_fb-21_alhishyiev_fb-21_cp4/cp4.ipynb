{
 "cells": [
  {
   "cell_type": "code",
   "execution_count": 28,
   "metadata": {},
   "outputs": [],
   "source": [
    "import random\n",
    "from math import gcd"
   ]
  },
  {
   "cell_type": "markdown",
   "metadata": {},
   "source": [
    "Написати функцію пошуку випадкового простого числа з заданого інтервалу або\n",
    "заданої довжини, використовуючи датчик випадкових чисел та тести перевірки на\n",
    "простоту. В якості датчика випадкових чисел використовуйте вбудований генератор\n",
    "псевдовипадкових чисел вашої мови програмування. В якості тесту перевірки на простоту\n",
    "рекомендовано використовувати тест Міллера-Рабіна із попередніми пробними\n",
    "діленнями. Тести необхідно реалізовувати власноруч, використання готових реалізацій\n",
    "тестів не дозволяється."
   ]
  },
  {
   "cell_type": "code",
   "execution_count": 29,
   "metadata": {},
   "outputs": [],
   "source": [
    "def num_check(n: int, rounds:int=10) -> bool:\n",
    "    if n <= 1:\n",
    "        return False\n",
    "    if n <= 3:\n",
    "        return True\n",
    "    if n % 2 == 0:\n",
    "        return False\n",
    "\n",
    "    d = n - 1\n",
    "    r = 0\n",
    "    while d % 2 == 0:\n",
    "        d //= 2\n",
    "        r += 1\n",
    "\n",
    "    for _ in range(rounds):\n",
    "        a = random.randint(2, n - 2)\n",
    "        x = pow(a, d, n)\n",
    "\n",
    "        if x in (1, n - 1):\n",
    "            continue\n",
    "\n",
    "        for _ in range(r - 1):\n",
    "            x = pow(x, 2, n)\n",
    "            if x == n - 1:\n",
    "                break\n",
    "        else:\n",
    "            return False\n",
    "\n",
    "    return True"
   ]
  },
  {
   "cell_type": "code",
   "execution_count": 30,
   "metadata": {},
   "outputs": [],
   "source": [
    "def num_generator(length: int, start:int=0, end:int=0) -> int:\n",
    "    if start == 0 and end == 0:\n",
    "        start = 10**(length - 1)\n",
    "        end = 10**length - 1   \n",
    "\n",
    "    while True:\n",
    "        num = random.randint(start, end)\n",
    "        \n",
    "        if num_check(num):\n",
    "            return num\n",
    "        \n",
    "def num_generator_bit_length(length:int) -> int:\n",
    "    start = 2**(length - 1)\n",
    "    end = 2**length - 1\n",
    "\n",
    "    return num_generator(length, start, end)"
   ]
  },
  {
   "cell_type": "markdown",
   "metadata": {},
   "source": [
    "За допомогою цієї функції згенерувати дві пари простих чисел\n",
    "p, q\n",
    "і\n",
    "1 1 p , q\n",
    "довжини щонайменше 256 біт. При цьому пари чисел беруться так, щоб\n",
    "pq  p1q1\n",
    "; p і q –\n",
    "прості числа для побудови ключів абонента А,\n",
    "1 p\n",
    "і\n",
    "q1\n",
    "– абонента B. "
   ]
  },
  {
   "cell_type": "code",
   "execution_count": 31,
   "metadata": {},
   "outputs": [],
   "source": [
    "class Pair:\n",
    "    def __init__(self, p, q, p1, q1):\n",
    "        self.p = p\n",
    "        self.p1 = p1\n",
    "        self.q = q\n",
    "        self.q1 = q1\n",
    "\n",
    "    def __str__(self):\n",
    "        return f\"p = {self.p} \\nq = {self.q} \\np1 = {self.p1} \\nq1 = {self.q1}\""
   ]
  },
  {
   "cell_type": "code",
   "execution_count": 32,
   "metadata": {},
   "outputs": [
    {
     "name": "stdout",
     "output_type": "stream",
     "text": [
      "p = 76399827603001855524334121892751927306361706179428662509452410845968380801223 \n",
      "q = 86460645852046608844112519937426930154596747795381159617162966489146528554253 \n",
      "p1 = 78857108443716013981620659492608550246372701023665740350258472967005070076493 \n",
      "q1 = 108899931041722841988845073775605140775968644716883203649842931498179532090633\n"
     ]
    }
   ],
   "source": [
    "def make_pairs() -> Pair:\n",
    "    while True:\n",
    "        p = num_generator_bit_length(256)\n",
    "        p1 = num_generator_bit_length(256)\n",
    "        q = num_generator_bit_length(256)\n",
    "        q1 = num_generator_bit_length(256)\n",
    "\n",
    "        if p * q <= p1 * q1:\n",
    "            return Pair(p, q, p1, q1)\n",
    "        \n",
    "pair = make_pairs()\n",
    "print(pair)\n",
    "\n"
   ]
  },
  {
   "cell_type": "markdown",
   "metadata": {},
   "source": [
    "3."
   ]
  },
  {
   "cell_type": "code",
   "execution_count": 33,
   "metadata": {},
   "outputs": [
    {
     "name": "stdout",
     "output_type": "stream",
     "text": [
      "p = 91868263241667762279082801572419574565893510599008451297589815206933756858709 \n",
      "q = 90627825810026110930832066867727108838819994879174090497157451904636456139641 \n",
      "p1 = 111670058585076977347946503084892895194936061557624075061154891611349980372361 \n",
      "q1 = 111919832703290812963818134269512256352067813373430546802078992434134540180967\n",
      "\n",
      "Абонент A - відкритий ключ: (65537, 8325820958535490659588370045535185060512680654585981361443136552249575335832508820584056905995332069122263336224662785579358653681733407498639236810983469)\n",
      "Абонент A - секретний ключ: (3425125636862770094346125773191847725963690482144325243539808117326102821755273357564579329600447615863364618661547810873001379104992389314466902957844833, 91868263241667762279082801572419574565893510599008451297589815206933756858709, 90627825810026110930832066867727108838819994879174090497157451904636456139641)\n",
      "\n",
      "Абонент B - відкритий ключ: (65537, 12498094274808499297865964171027619265435445234092035561692107097914827046428029116437029866660177953851479307159565275032406285424395318307143346985053087)\n",
      "Абонент B - секретний ключ: (7612668040283816523055852781531829858811320907269480867100831945949036130221883345502227060948566281752882371229352600307234901481701607917445772185488593, 111670058585076977347946503084892895194936061557624075061154891611349980372361, 111919832703290812963818134269512256352067813373430546802078992434134540180967)\n"
     ]
    }
   ],
   "source": [
    "def mod_inverse(a, m):\n",
    "    if gcd(a, m) != 1:\n",
    "        raise ValueError(\"Обертати неможливо\")\n",
    "\n",
    "    m0, x0, x1 = m, 0, 1\n",
    "    while a > 1:\n",
    "        q = a // m\n",
    "        m, a = a % m, m\n",
    "        x0, x1 = x1 - q * x0, x0\n",
    "    if x1 < 0:\n",
    "        x1 += m0\n",
    "    return x1\n",
    "\n",
    "\n",
    "def generate_rsa_keypair(pair: Pair) -> tuple:\n",
    "    n = pair.p * pair.q\n",
    "    n1 = pair.p1 * pair.q1\n",
    "\n",
    "    phi_n = (pair.p - 1) * (pair.q - 1)\n",
    "    phi_n1 = (pair.p1 - 1) * (pair.q1 - 1)\n",
    "\n",
    "    e = 65537\n",
    "    \"\"\"\n",
    "    while True:\n",
    "        e = random.randint(2, phi_n - 1) \n",
    "        if gcd(e, phi_n) == 1:  \n",
    "            break\n",
    "\n",
    "    while True:\n",
    "        e1 = random.randint(2, phi_n1 - 1) \n",
    "        if gcd(e1, phi_n1) == 1:\n",
    "            break\n",
    "    \"\"\"\n",
    "\n",
    "    d = mod_inverse(e, phi_n)\n",
    "    d1 = mod_inverse(e, phi_n1)\n",
    "\n",
    "    public_key_A = (e, n)\n",
    "    public_key_B = (e, n1)\n",
    "\n",
    "    private_key_A = (d, pair.p, pair.q)\n",
    "    private_key_B = (d1, pair.p1, pair.q1)\n",
    "\n",
    "    return public_key_A, private_key_A, public_key_B, private_key_B\n",
    "\n",
    "pair = make_pairs()\n",
    "print(pair)\n",
    "\n",
    "public_key_A, private_key_A, public_key_B, private_key_B = generate_rsa_keypair(pair)\n",
    "\n",
    "print(\"\\nАбонент A - відкритий ключ:\", public_key_A)\n",
    "print(\"Абонент A - секретний ключ:\", private_key_A)\n",
    "print(\"\\nАбонент B - відкритий ключ:\", public_key_B)\n",
    "print(\"Абонент B - секретний ключ:\", private_key_B)"
   ]
  },
  {
   "cell_type": "markdown",
   "metadata": {},
   "source": [
    "4."
   ]
  },
  {
   "cell_type": "code",
   "execution_count": 34,
   "metadata": {},
   "outputs": [],
   "source": [
    "def Encrypt(message, public_key):\n",
    "    e, n = public_key\n",
    "    cipher_text = [pow(ord(char), e, n) for char in message]\n",
    "    return cipher_text\n",
    "\n",
    "def Decrypt(cipher_text, private_key):\n",
    "    d, p, q = private_key\n",
    "    n = p * q\n",
    "    decrypted_message = ''.join([chr(pow(char, d, n)) for char in cipher_text])\n",
    "    return decrypted_message\n",
    "\n",
    "def Sign(message, private_key):\n",
    "    d, p, q = private_key\n",
    "    n = p * q\n",
    "    signature = [pow(ord(char), d, n) for char in message]\n",
    "    return signature\n",
    "\n",
    "def Verify(message, signature, public_key):\n",
    "    e, n = public_key\n",
    "    message_from_signature = ''.join([chr(pow(char, e, n)) for char in signature])\n",
    "    return message_from_signature == message\n",
    "\n",
    "def SendKey(sender_private_key, receiver_public_key, k):\n",
    "    encrypted_k = Encrypt(str(k), receiver_public_key)\n",
    "    signature = Sign(str(k), sender_private_key)\n",
    "\n",
    "    return encrypted_k, signature\n",
    "\n",
    "def ReceiveKey(private_key, sender_public_key, encrypted_k, signature):\n",
    "    decrypted_k = Decrypt(encrypted_k, private_key)\n",
    "\n",
    "    if Verify(decrypted_k, signature, sender_public_key):\n",
    "        print(\"Підпис дійсний!\")\n",
    "    else:\n",
    "        print(\"Підпис недійсний!\")\n",
    "\n",
    "    return decrypted_k"
   ]
  },
  {
   "cell_type": "code",
   "execution_count": 35,
   "metadata": {},
   "outputs": [
    {
     "name": "stdout",
     "output_type": "stream",
     "text": [
      "Випадковий ключ: 3917696559780703199659293780267375211971671219864090594499189159837556086204827977079698393145660573983247637036932790131345707499035286352081915350495135\n",
      "Підпис дійсний!\n",
      "Розшифрований ключ: 3917696559780703199659293780267375211971671219864090594499189159837556086204827977079698393145660573983247637036932790131345707499035286352081915350495135\n"
     ]
    }
   ],
   "source": [
    "pair = make_pairs() \n",
    "\n",
    "public_key_A, private_key_A, public_key_B, private_key_B = generate_rsa_keypair(pair)\n",
    "\n",
    "k = random.randint(1, public_key_B[1] - 1)\n",
    "print(f\"Випадковий ключ: {k}\")\n",
    "\n",
    "encrypted_k, signature = SendKey(private_key_A, public_key_B, k)\n",
    "\n",
    "\n",
    "decrypted_k = ReceiveKey(private_key_B, public_key_A, encrypted_k, signature)\n",
    "\n",
    "print(f\"Розшифрований ключ: {decrypted_k}\")\n",
    "\n"
   ]
  },
  {
   "cell_type": "code",
   "execution_count": 36,
   "metadata": {},
   "outputs": [
    {
     "name": "stdout",
     "output_type": "stream",
     "text": [
      "Початкове повідомлення: Test1\n",
      "(65537, 7131419816832572144160515673961437908815918034033815514056376353835248566020661166927344682814636250959392663263173292468555029714780087712209835106937527)\n",
      "Зашифроване повідомлення для абонента B: [6725517830163790027998037772414970125362777714568425735184751965766741543475855079234972733335569548652417998765550219320722089479985108553524978065201378, 111847227075867646521460741737350749752704824069036516027008333372867780687433180972802900717446767573730561503052692994530421140204046419228212245956784, 5346339715406317670245772993604180565096103105270345951351413817192229277999442165514318960437111204743692178813382873525174918644594195020452960807067544, 838693998167472898609130183325396370809138386747802853797584145260522531057851029547141398391369862706704374237099844737110844769292231384537495838637894, 281011188586498261287172557774109043161356812926249324304347171806604152508522694288421871662885045076807350053867055840323721452456099398062539928509965]\n",
      "(1737451824394856026760623064316985505745819357758486539099106783064336387897662597494225153567117185226035942887175891816000538168084998676791583290220393, 65601723636698433111222250398717435999342689778401433910098800965133717885171, 108707811647241015322300071258767710004386182282154057672985198531605999112237)\n",
      "Розшифроване повідомлення для абонента B: Test1\n"
     ]
    }
   ],
   "source": [
    "message = \"Test1\"\n",
    "print(f\"Початкове повідомлення: {message}\")\n",
    "\n",
    "encrypted_message = Encrypt(message, public_key_B)\n",
    "print(public_key_B)\n",
    "print(\"Зашифроване повідомлення для абонента B:\", encrypted_message)\n",
    "\n",
    "print(private_key_B)\n",
    "decrypted_message = Decrypt(encrypted_message, private_key_B)\n",
    "\n",
    "print(\"Розшифроване повідомлення для абонента B:\", decrypted_message)\n"
   ]
  }
 ],
 "metadata": {
  "kernelspec": {
   "display_name": "Python 3",
   "language": "python",
   "name": "python3"
  },
  "language_info": {
   "codemirror_mode": {
    "name": "ipython",
    "version": 3
   },
   "file_extension": ".py",
   "mimetype": "text/x-python",
   "name": "python",
   "nbconvert_exporter": "python",
   "pygments_lexer": "ipython3",
   "version": "3.12.6"
  }
 },
 "nbformat": 4,
 "nbformat_minor": 2
}
